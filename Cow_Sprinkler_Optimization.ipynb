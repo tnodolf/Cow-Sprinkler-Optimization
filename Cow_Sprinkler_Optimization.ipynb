{
 "cells": [
  {
   "cell_type": "markdown",
   "metadata": {
    "id": "GUIoqkyoj7Eu"
   },
   "source": [
    "# <h1 align=\"center\">Cow Sprinker Optimization </h1>"
   ]
  },
  {
   "cell_type": "markdown",
   "metadata": {
    "id": "Wmse8IkAkrY6"
   },
   "source": [
    "## Information"
   ]
  },
  {
   "cell_type": "markdown",
   "metadata": {
    "id": "Lf8O-o20ksz5"
   },
   "source": [
    "### Background:"
   ]
  },
  {
   "cell_type": "markdown",
   "metadata": {
    "id": "8-6Yt91ck16r"
   },
   "source": [
    "In dairy farms cows are relieved during hot days by a system of sprayed water. Diamond J Dairy Farmoperates a system of equally spaced spouts on one side of the fence that all turn on at the same time and spray the respective adjacent area, which is abouta cow width. Cows move into the sprayed area to be relieved when the water is on. Conserving water is important to all farmers. Soaker lines above the feed area on modern dairies is a primary way to cool animals. The soaker line is automated at a central spot and is activated based on outside temperature. When the weather triggers water line to be activated,the soaker linewets groups of 140-160 cows at a time for 1 minute on and 4-10 minutes off."
   ]
  },
  {
   "cell_type": "markdown",
   "metadata": {
    "id": "r-aaVj3XlFUT"
   },
   "source": [
    "### Problem(s):"
   ]
  },
  {
   "cell_type": "markdown",
   "metadata": {
    "id": "BdFYLLrYlFHP"
   },
   "source": [
    "\n",
    "When the water turns on, not all soakers havea cow in the respective soaking area, resulting in significant water waste. When there is no animal in reach of the soaker the water could be conserved."
   ]
  },
  {
   "cell_type": "markdown",
   "metadata": {
    "id": "UGqq_bmmlE5H"
   },
   "source": [
    "### Objectives:"
   ]
  },
  {
   "cell_type": "markdown",
   "metadata": {
    "id": "Gt_7xu6JlxpS"
   },
   "source": [
    "The final goal is a system that would detect if a cow was in position when the water soaker was set to come on. If the cow isnot in the area of reach of the water, then the water shouldnot come on for that space, however the water shouldcome on in other areas in the same water line where there are cows.The first step is to design a vision-basedsystem whereby one camera is positioned to view multiple soaker areas, and software that detects whether or not there is a cow in each of them. The software will later be used to activate each soaker valve."
   ]
  },
  {
   "cell_type": "markdown",
   "metadata": {
    "id": "-yDyGlTylxfR"
   },
   "source": [
    "## General Imports"
   ]
  },
  {
   "cell_type": "code",
   "execution_count": 1,
   "metadata": {
    "ExecuteTime": {
     "end_time": "2021-12-16T21:03:09.294748Z",
     "start_time": "2021-12-16T21:03:09.279789Z"
    }
   },
   "outputs": [],
   "source": [
    "#!pip install boto3"
   ]
  },
  {
   "cell_type": "code",
   "execution_count": 1,
   "metadata": {
    "ExecuteTime": {
     "end_time": "2021-12-20T03:50:43.154338Z",
     "start_time": "2021-12-20T03:50:40.849236Z"
    },
    "id": "FatNBL4PmCux"
   },
   "outputs": [],
   "source": [
    "#Import Numpy\n",
    "import numpy as np\n",
    "\n",
    "#Importing Pillow and its Functions\n",
    "import PIL\n",
    "from PIL import ImageEnhance \n",
    "from PIL import Image as im\n",
    "\n",
    "#Importing Open CV2 \n",
    "import cv2 as cv\n",
    "import os\n",
    "from time import time\n",
    "\n",
    "#Importing tkinter\n",
    "from tkinter import *\n",
    "import random\n",
    "\n",
    "#Max_Int\n",
    "import sys\n",
    "\n",
    "#boto3\n",
    "import boto3\n",
    "\n",
    "ACCESS_ID = 0\n",
    "ACCESS_KEY = 0\n",
    "DEFAULT_REGION = 'us-west-2'\n",
    "\n",
    "s3 = boto3.resource('s3',\n",
    "         aws_access_key_id=ACCESS_ID,\n",
    "         aws_secret_access_key= ACCESS_KEY)"
   ]
  },
  {
   "cell_type": "markdown",
   "metadata": {
    "id": "MWlSZ_ppmfu2"
   },
   "source": [
    "## Helper Functions"
   ]
  },
  {
   "cell_type": "markdown",
   "metadata": {
    "id": "HBSlk4IvnmKf"
   },
   "source": [
    "### File to png"
   ]
  },
  {
   "cell_type": "code",
   "execution_count": 2,
   "metadata": {
    "ExecuteTime": {
     "end_time": "2021-12-20T03:50:43.179099Z",
     "start_time": "2021-12-20T03:50:43.154338Z"
    },
    "id": "Ip1cjodUmp1q"
   },
   "outputs": [],
   "source": [
    "def FiletoPng(file):\n",
    "    imgJPG = Image.open(file)\n",
    "    parts = file.split(\".\")\n",
    "    pngfile = parts[0] + \"-\" + \".png\" # string \n",
    "    imgJPG.save(pngfile)\n",
    "    return pngfile"
   ]
  },
  {
   "cell_type": "markdown",
   "metadata": {},
   "source": [
    "### Arraytojpg"
   ]
  },
  {
   "cell_type": "code",
   "execution_count": 15,
   "metadata": {
    "ExecuteTime": {
     "end_time": "2021-12-20T03:54:39.162516Z",
     "start_time": "2021-12-20T03:54:39.145981Z"
    }
   },
   "outputs": [],
   "source": [
    "def arraytojpg(frame,frame_counter):\n",
    "    folder_name = base = \"Frames\"\n",
    "\n",
    "    # create folder for images in current path if not exists\n",
    "    current_path = os.getcwd()\n",
    "    folder_path = os.path.join(current_path, folder_name)\n",
    "    \n",
    "    #file_path = os.path.join(folder_path, str(frame_counter) + \"cows.jpg\")\n",
    "    file_path = os.path.join(\"cows.jpg\")\n",
    "    cv.imwrite(file_path, frame)"
   ]
  },
  {
   "cell_type": "markdown",
   "metadata": {},
   "source": [
    "### Set up"
   ]
  },
  {
   "cell_type": "code",
   "execution_count": 4,
   "metadata": {
    "ExecuteTime": {
     "end_time": "2021-12-20T03:50:43.219431Z",
     "start_time": "2021-12-20T03:50:43.209893Z"
    }
   },
   "outputs": [],
   "source": [
    "def setup(boundingbox_widget):\n",
    "    print(\"Instructions:\")\n",
    "    print(\"Mark the stanchions with Xs\")\n",
    "    print(\"Press Q to Exit Window\")\n",
    "    x = True\n",
    "    while x:\n",
    "        cv2.imshow('image', boundingbox_widget.show_image())\n",
    "        key = cv2.waitKey(1)\n",
    "\n",
    "        # Close program with keyboard 'q'\n",
    "        if key == ord('q'):\n",
    "            cv2.destroyAllWindows()\n",
    "            x = False\n",
    "            exit(1)"
   ]
  },
  {
   "cell_type": "code",
   "execution_count": 5,
   "metadata": {
    "ExecuteTime": {
     "end_time": "2021-12-20T03:50:43.243905Z",
     "start_time": "2021-12-20T03:50:43.222547Z"
    }
   },
   "outputs": [],
   "source": [
    "import cv2\n",
    "\n",
    "image_coor = []\n",
    "\n",
    "class BoundingBoxWidget(object):\n",
    "    \n",
    "    def __init__(self,frame):\n",
    "        \n",
    "        self.original_image = frame\n",
    "        self.clone = self.original_image.copy()\n",
    "\n",
    "        cv2.namedWindow('image')\n",
    "        cv2.setMouseCallback('image', self.extract_coordinates)\n",
    "\n",
    "        # Bounding box reference points\n",
    "        self.image_coordinates = []\n",
    "        \n",
    "    def extract_coordinates(self, event, x, y, flags, parameters):\n",
    "        # Record starting (x,y) coordinates on left mouse button click\n",
    "        if event == cv2.EVENT_LBUTTONDOWN:\n",
    "            self.image_coordinates = [(x,y)]\n",
    "\n",
    "        # Record ending (x,y) coordintes on left mouse button release\n",
    "        elif event == cv2.EVENT_LBUTTONUP:\n",
    "            self.image_coordinates.append((x,y))\n",
    "            print('top left: {}, bottom right: {}'.format(self.image_coordinates[0], self.image_coordinates[1]))\n",
    "            \n",
    "            image_coor.append([self.image_coordinates[0],self.image_coordinates[1]])\n",
    "            \n",
    "            # Draw rectangle \n",
    "            cv2.line(self.clone, self.image_coordinates[0], self.image_coordinates[1], (36,255,12), 2)\n",
    "            cv2.imshow(\"image\", self.clone) \n",
    "\n",
    "        # Clear drawing boxes on right mouse button click\n",
    "        elif event == cv2.EVENT_RBUTTONDOWN:\n",
    "            self.clone = self.original_image.copy()\n",
    "\n",
    "    def show_image(self):\n",
    "        return self.clone\n",
    "   "
   ]
  },
  {
   "cell_type": "markdown",
   "metadata": {
    "id": "H-l1Mt1vn0Ve"
   },
   "source": [
    "### Video to Frames"
   ]
  },
  {
   "cell_type": "code",
   "execution_count": 6,
   "metadata": {
    "ExecuteTime": {
     "end_time": "2021-12-20T03:50:43.261055Z",
     "start_time": "2021-12-20T03:50:43.247628Z"
    }
   },
   "outputs": [],
   "source": [
    "def VideoInfoExtractor(video,seconds_frequency):\n",
    "    \n",
    "    cap = cv.VideoCapture(video)\n",
    "    Num_frame = int(cap.get(cv.CAP_PROP_FRAME_COUNT))\n",
    "    FPS = cap.get(cv.CAP_PROP_FPS) # Gets the frames per second\n",
    "    mul = FPS * seconds_frequency # calculates number of frames that creates 10 seconds of video\n",
    "    \n",
    "    # Check if camera opened successfully\n",
    "    if (cap.isOpened()== False):\n",
    "        print(\"Error opening video\")\n",
    "\n",
    "    return cap,Num_frame,FPS,mul"
   ]
  },
  {
   "cell_type": "code",
   "execution_count": 7,
   "metadata": {
    "ExecuteTime": {
     "end_time": "2021-12-20T03:50:43.283459Z",
     "start_time": "2021-12-20T03:50:43.264089Z"
    }
   },
   "outputs": [],
   "source": [
    "def VideotoFrames(cap,frame_counter):\n",
    "    \n",
    "    cap.set(cv.CAP_PROP_POS_FRAMES, frame_counter)\n",
    "    ret, frame = cap.read()\n",
    "    \n",
    "    return frame"
   ]
  },
  {
   "cell_type": "markdown",
   "metadata": {
    "id": "kCqyNcmin6h7"
   },
   "source": [
    "### RunLiveVideo"
   ]
  },
  {
   "cell_type": "code",
   "execution_count": 8,
   "metadata": {
    "ExecuteTime": {
     "end_time": "2021-12-20T03:50:43.374329Z",
     "start_time": "2021-12-20T03:50:43.366837Z"
    },
    "id": "JTIvinVnn5-b"
   },
   "outputs": [],
   "source": [
    "#for streaming\n",
    "def RunLiveVideo(videoUrl):\n",
    "    video = cv2.VideoCapture(videoUrl)\n",
    "    \n",
    "    while True:\n",
    "        _,frame = video.read()\n",
    "        cv2.imshow(\"RTSP\", frame)\n",
    "        k = cv2.waitKey(1)\n",
    "        if k == ord('q'):\n",
    "            break\n",
    "    \n",
    "    video.release()\n",
    "    cv2.destroyAllWindows()"
   ]
  },
  {
   "cell_type": "markdown",
   "metadata": {
    "id": "3FpduxyCpFEI"
   },
   "source": [
    "### Image crop"
   ]
  },
  {
   "cell_type": "code",
   "execution_count": 9,
   "metadata": {
    "ExecuteTime": {
     "end_time": "2021-12-20T03:50:43.749770Z",
     "start_time": "2021-12-20T03:50:43.735231Z"
    },
    "id": "4DqCfcs6pNPP"
   },
   "outputs": [],
   "source": [
    "def imageCrop(image):\n",
    "    cropped_image = image[0:600, 0:940]\n",
    "    return cropped_image"
   ]
  },
  {
   "cell_type": "markdown",
   "metadata": {},
   "source": [
    "### AWS"
   ]
  },
  {
   "cell_type": "code",
   "execution_count": 10,
   "metadata": {
    "ExecuteTime": {
     "end_time": "2021-12-20T03:50:44.100629Z",
     "start_time": "2021-12-20T03:50:44.078837Z"
    }
   },
   "outputs": [],
   "source": [
    "def Matrix(lI,tI,image_coor):\n",
    "    \n",
    "    xCoor = np.zeros(1000)\n",
    "    yCoor = np.zeros(1000)\n",
    "    finalMatrix = np.zeros(20)\n",
    "\n",
    "    counter = 0\n",
    "\n",
    "    for X in image_coor:\n",
    "        for line in X:\n",
    "            for coordinate in line:\n",
    "                if(line.index(coordinate) != 1):\n",
    "                    xCoor[counter] = coordinate\n",
    "                    counter = counter + 1\n",
    "                else:\n",
    "                    yCoor[counter] = coordinate\n",
    "                    counter = counter + 1\n",
    "\n",
    "    counter = 0\n",
    "\n",
    "    for data in lI:\n",
    "        if(counter != len(lI)):\n",
    "            if(data >= xCoor[counter]):\n",
    "                if (data <= xCoor[counter + 1]):\n",
    "                    finalMatrix[counter] = 1\n",
    "                    counter = counter + 1\n",
    "                else:\n",
    "                    finalMatrix[counter] = 0\n",
    "                    counter = counter + 1\n",
    "            else:\n",
    "                finalMatrix[counter] = 0\n",
    "                counter = counter + 1\n",
    "\n",
    "    counter = 0\n",
    "\n",
    "    for data in tI:\n",
    "        if(counter != len(tI)):\n",
    "            if(data >= yCoor[counter]):\n",
    "                if (data <= yCoor[counter + 1]):\n",
    "                    finalMatrix[counter] = 1\n",
    "                    counter = counter + 1\n",
    "                else:\n",
    "                    finalMatrix[counter] = 0\n",
    "                    counter = counter + 1\n",
    "            else:\n",
    "                finalMatrix[counter] = 0\n",
    "                counter = counter + 1\n",
    "    return finalMatrix"
   ]
  },
  {
   "cell_type": "code",
   "execution_count": 19,
   "metadata": {
    "ExecuteTime": {
     "end_time": "2021-12-20T03:55:56.799172Z",
     "start_time": "2021-12-20T03:55:56.767098Z"
    }
   },
   "outputs": [],
   "source": [
    "def CallAWS(frame,frame_counter):\n",
    "    arraytojpg(frame,frame_counter)\n",
    "    global s3\n",
    "    \n",
    "    ## Adding local jpg to S3 to be called by model ##\n",
    "    s3 = boto3.client('s3')\n",
    "    bucket = 'cowstoscan'\n",
    "    key_name = 'cows.jpg'\n",
    "    s3.upload_file('cows.jpg', bucket, key_name)\n",
    "\n",
    "    ## Creating client instance ##\n",
    "    client = boto3.client('rekognition')\n",
    "    \n",
    "    ## Calling Model ##\n",
    "    response    = client.detect_custom_labels(ProjectVersionArn = 'arn:aws:rekognition:us-west-2:551144275003:project/CowModel/version/CowModel.2021-11-29T16.38.24/1638232704374', Image = {'S3Object': {'Bucket': 'cowstoscan', 'Name': 'cows.jpg' } })\n",
    "    \n",
    "    ## Deleting object from S3 now that model has been called ##\n",
    "    s3.delete_object(Bucket = 'cowstoscan', Key = 'cows.jpg')\n",
    "    s3.Object('cowstoscan', 'cows.jpg').delete()\n",
    "    \n",
    "    if os.path.exists(\"cows.jpg\"):\n",
    "          os.remove(\"cows.jpg\")\n",
    "            \n",
    "    #response = \"{'CustomLabels': [{'Name': 'Cow', 'Confidence': 98.71299743652344, 'Geometry': {'BoundingBox': {'left': 0.04439999908208847, 'Height': 0.08868999779224396, 'Left': 0.5378699898719788, 'Top': 0.20231999456882477}}}, {'Name': 'Cow', 'Confidence': 96.47700500488281, 'Geometry': {'BoundingBox': {'left': 0.03897999972105026, 'Height': 0.13030999898910522, 'Left': 0.22544999420642853, 'Top': 0.3942900002002716}}}, {'Name': 'Cow', 'Confidence': 96.3479995727539, 'Geometry': {'BoundingBox': {'left': 0.04901000112295151, 'Height': 0.18794000148773193, 'Left': 0.25672999024391174, 'Top': 0.36059001088142395}}}, {'Name': 'Cow', 'Confidence': 95.70700073242188, 'Geometry': {'BoundingBox': {'left': 0.04177999868988991, 'Height': 0.0692799985408783, 'Left': 0.6096100211143494, 'Top': 0.15031999349594116}}}, {'Name': 'Cow', 'Confidence': 92.4020004272461, 'Geometry': {'BoundingBox': {'left': 0.06054000183939934, 'Height': 0.1060900017619133, 'Left': 0.49428001046180725, 'Top': 0.2153100073337555}}}, {'Name': 'Cow', 'Confidence': 92.11599731445312, 'Geometry': {'BoundingBox': {'left': 0.08161000162363052, 'Height': 0.2087700068950653, 'Left': 0.001180000021122396, 'Top': 0.6182699799537659}}}, {'Name': 'Cow', 'Confidence': 86.81700134277344, 'Geometry': {'BoundingBox': {'left': 0.06851000338792801, 'Height': 0.18070000410079956, 'Left': 0.318589985370636, 'Top': 0.30358999967575073}}}, {'Name': 'Cow', 'Confidence': 84.68299865722656, 'Geometry': {'BoundingBox': {'left': 0.07779999822378159, 'Height': 0.11180999875068665, 'Left': 0.41760000586509705, 'Top': 0.2549299895763397}}}], 'ResponseMetadata': {'RequestId': '86a4a7e2-69ee-472f-9495-be3cd4ad74e0', 'HTTPStatusCode': 200, 'HTTPHeaders': {'x-amzn-requestid': '86a4a7e2-69ee-472f-9495-be3cd4ad74e0', 'content-type': 'application/x-amz-json-1.1', 'content-length': '1486', 'date': 'Sat, 04 Dec 2021 03:27:06 GMT'}, 'RetryAttempts': 0}}\"\n",
    "    responseStr = str(response)\n",
    "\n",
    "    nameConf  = \"'Name': 'Cow', 'Confidence':\"\n",
    "    leftData = \"'Left': \"\n",
    "    topData   = \"'Top': \"\n",
    "\n",
    "    leftInfo = []\n",
    "    topInfo   = []\n",
    "\n",
    "    num = 1\n",
    "\n",
    "    #Finding amount of cows\n",
    "    for i, _ in enumerate(responseStr):\n",
    "        if responseStr[i:i + len(nameConf)] == nameConf:\n",
    "            print('Cow ' + str(num) + ' at index ' + str(i))\n",
    "            num += 1\n",
    "\n",
    "    for i, _ in enumerate(responseStr):\n",
    "        if responseStr[i:i + len(leftData)] == leftData:\n",
    "            leftInfo.append(float(responseStr[i + 8:i + 25]))\n",
    "\n",
    "    for i, _ in enumerate(responseStr):\n",
    "        if responseStr[i:i + len(topData)] == topData:\n",
    "            topInfo.append(float(responseStr[i + 7:i + 25]))\n",
    "\n",
    "    lI = np.asarray(leftInfo)\n",
    "    tI = np.asarray(topInfo)\n",
    "\n",
    "  \n",
    "    lI = (lI * 1920).astype(int)\n",
    "    tI = (tI * 1080).astype(int)\n",
    "    \n",
    "    #print(\"left Info \")\n",
    "    #print(lI)\n",
    "\n",
    "    #print(\"Top Info\")\n",
    "    #print(tI)\n",
    "    \n",
    "    mat = Matrix(lI,tI,image_coor)\n",
    "    \n",
    "    return mat\n",
    "\n",
    "   "
   ]
  },
  {
   "cell_type": "markdown",
   "metadata": {
    "id": "R3FnXvycpsHj"
   },
   "source": [
    "### Output funtion"
   ]
  },
  {
   "cell_type": "code",
   "execution_count": 12,
   "metadata": {
    "ExecuteTime": {
     "end_time": "2021-12-20T03:50:44.658686Z",
     "start_time": "2021-12-20T03:50:44.643669Z"
    },
    "id": "A7Vl0Jf8p3iU"
   },
   "outputs": [],
   "source": [
    "def Output_initilize(list1):\n",
    "    first_half = list1[:len(list1) //2] \n",
    "    second_half = list1[len(list1) //2:]\n",
    "    for i in range(len(first_half)):\n",
    "        if(first_half[i] == 0):\n",
    "            my_Label = Label(text=\"Off\", width=10, bg = \"red\")\n",
    "            my_Label.grid(row = i+1, pady = 10) \n",
    "            global watercount \n",
    "            watercount+= 1 \n",
    "        if(first_half[i] == 1):\n",
    "            my_Label2 = Label(text=\"On\", width=10, bg = \"green\") \n",
    "            my_Label2.grid(row = i+1, pady = 10) \n",
    "    for j in range(len(second_half)):\n",
    "        if(second_half[j] == 0):\n",
    "            my_Label3 = Label(text=\"Off\", width=10, bg = \"red\")\n",
    "            my_Label3.grid(row = j+1, column = 1, pady = 10)  \n",
    "            watercount += 1 \n",
    "        if(second_half[j] == 1):\n",
    "            my_Label4 = Label(text=\"On\", width=10, bg = \"green\")\n",
    "            my_Label4.grid(row = j+1, column = 1, pady = 10) \n",
    "      \n",
    "    Formula = watercount\n",
    "    strform = str(Formula)\n",
    "    my_Label5 = Label(text = \"                                    Water Saved (gallons): \" + strform)\n",
    "    my_Label5.grid(row = 16, pady = 10) "
   ]
  },
  {
   "cell_type": "markdown",
   "metadata": {
    "id": "r5ES1kQioE6i"
   },
   "source": [
    "## Main "
   ]
  },
  {
   "cell_type": "code",
   "execution_count": 13,
   "metadata": {
    "ExecuteTime": {
     "end_time": "2021-12-20T03:50:45.098898Z",
     "start_time": "2021-12-20T03:50:45.078985Z"
    },
    "id": "NYUrPZXCmwER"
   },
   "outputs": [],
   "source": [
    "watercount = 0\n",
    "def main():\n",
    "    \n",
    "    #initialize video (Will be replaced with streaming)\n",
    "    #video = \"Videos/cow_video.mov\"\n",
    "    video = \"Videos/cv.mov\"\n",
    "\n",
    "    if not os.path.isfile(video):\n",
    "        print(\"File not found!\")\n",
    "    \n",
    "    \n",
    "    #Initialize Tkinter\n",
    "    root = Tk()\n",
    "    root.title(\"Cow Detection\")\n",
    "    \n",
    "    \n",
    "    #InitilizeVideoinfo\n",
    "    seconds_frequency = 10\n",
    "    capture,total_frame,fps,multiplier = VideoInfoExtractor(video,seconds_frequency)\n",
    "    print(capture)\n",
    "    print(total_frame)\n",
    "    print(fps)\n",
    "    \n",
    "    frame_counter = 1\n",
    "    InitialSetup = True\n",
    "    \n",
    "    UI_delay = 500\n",
    "    \n",
    "    \n",
    "    while frame_counter <= total_frame: \n",
    "        frame = VideotoFrames(capture,frame_counter)\n",
    "        #frame = imageCrop(frame)\n",
    "        \n",
    "        if InitialSetup == True:\n",
    "            boundingbox_widget = BoundingBoxWidget(frame)\n",
    "            setup(boundingbox_widget)\n",
    "            InitialSetup = False\n",
    "            \n",
    "        AWS_Matrix = CallAWS(frame,frame_counter)\n",
    "        \n",
    "        root.after(UI_delay, Output_initilize , AWS_Matrix)\n",
    "        UI_delay += 2000\n",
    "        frame_counter += multiplier\n",
    "    \n",
    "    root.mainloop()\n",
    "\n",
    "    return 0"
   ]
  },
  {
   "cell_type": "code",
   "execution_count": 20,
   "metadata": {
    "ExecuteTime": {
     "end_time": "2021-12-20T03:56:06.352430Z",
     "start_time": "2021-12-20T03:56:01.893795Z"
    }
   },
   "outputs": [
    {
     "name": "stdout",
     "output_type": "stream",
     "text": [
      "<VideoCapture 0000019A7A3D7AB0>\n",
      "2910\n",
      "30.0\n",
      "Instructions:\n",
      "Mark the stanchions with Xs\n",
      "Press Q to Exit Window\n",
      "top left: (777, 347), bottom right: (904, 409)\n"
     ]
    },
    {
     "ename": "NoCredentialsError",
     "evalue": "Unable to locate credentials",
     "output_type": "error",
     "traceback": [
      "\u001b[1;31m---------------------------------------------------------------------------\u001b[0m",
      "\u001b[1;31mNoCredentialsError\u001b[0m                        Traceback (most recent call last)",
      "\u001b[1;32m<ipython-input-20-263240bbee7e>\u001b[0m in \u001b[0;36m<module>\u001b[1;34m\u001b[0m\n\u001b[1;32m----> 1\u001b[1;33m \u001b[0mmain\u001b[0m\u001b[1;33m(\u001b[0m\u001b[1;33m)\u001b[0m\u001b[1;33m\u001b[0m\u001b[1;33m\u001b[0m\u001b[0m\n\u001b[0m",
      "\u001b[1;32m<ipython-input-13-c857674c6c34>\u001b[0m in \u001b[0;36mmain\u001b[1;34m()\u001b[0m\n\u001b[0;32m     37\u001b[0m             \u001b[0mInitialSetup\u001b[0m \u001b[1;33m=\u001b[0m \u001b[1;32mFalse\u001b[0m\u001b[1;33m\u001b[0m\u001b[1;33m\u001b[0m\u001b[0m\n\u001b[0;32m     38\u001b[0m \u001b[1;33m\u001b[0m\u001b[0m\n\u001b[1;32m---> 39\u001b[1;33m         \u001b[0mAWS_Matrix\u001b[0m \u001b[1;33m=\u001b[0m \u001b[0mCallAWS\u001b[0m\u001b[1;33m(\u001b[0m\u001b[0mframe\u001b[0m\u001b[1;33m,\u001b[0m\u001b[0mframe_counter\u001b[0m\u001b[1;33m)\u001b[0m\u001b[1;33m\u001b[0m\u001b[1;33m\u001b[0m\u001b[0m\n\u001b[0m\u001b[0;32m     40\u001b[0m \u001b[1;33m\u001b[0m\u001b[0m\n\u001b[0;32m     41\u001b[0m         \u001b[0mroot\u001b[0m\u001b[1;33m.\u001b[0m\u001b[0mafter\u001b[0m\u001b[1;33m(\u001b[0m\u001b[0mUI_delay\u001b[0m\u001b[1;33m,\u001b[0m \u001b[0mOutput_initilize\u001b[0m \u001b[1;33m,\u001b[0m \u001b[0mAWS_Matrix\u001b[0m\u001b[1;33m)\u001b[0m\u001b[1;33m\u001b[0m\u001b[1;33m\u001b[0m\u001b[0m\n",
      "\u001b[1;32m<ipython-input-19-b4fd77f923f6>\u001b[0m in \u001b[0;36mCallAWS\u001b[1;34m(frame, frame_counter)\u001b[0m\n\u001b[0;32m      7\u001b[0m     \u001b[0mbucket\u001b[0m \u001b[1;33m=\u001b[0m \u001b[1;34m'cowstoscan'\u001b[0m\u001b[1;33m\u001b[0m\u001b[1;33m\u001b[0m\u001b[0m\n\u001b[0;32m      8\u001b[0m     \u001b[0mkey_name\u001b[0m \u001b[1;33m=\u001b[0m \u001b[1;34m'cows.jpg'\u001b[0m\u001b[1;33m\u001b[0m\u001b[1;33m\u001b[0m\u001b[0m\n\u001b[1;32m----> 9\u001b[1;33m     \u001b[0ms3\u001b[0m\u001b[1;33m.\u001b[0m\u001b[0mupload_file\u001b[0m\u001b[1;33m(\u001b[0m\u001b[1;34m'cows.jpg'\u001b[0m\u001b[1;33m,\u001b[0m \u001b[0mbucket\u001b[0m\u001b[1;33m,\u001b[0m \u001b[0mkey_name\u001b[0m\u001b[1;33m)\u001b[0m\u001b[1;33m\u001b[0m\u001b[1;33m\u001b[0m\u001b[0m\n\u001b[0m\u001b[0;32m     10\u001b[0m \u001b[1;33m\u001b[0m\u001b[0m\n\u001b[0;32m     11\u001b[0m     \u001b[1;31m## Creating client instance ##\u001b[0m\u001b[1;33m\u001b[0m\u001b[1;33m\u001b[0m\u001b[1;33m\u001b[0m\u001b[0m\n",
      "\u001b[1;32mC:\\Users\\Bharadwaj Satya\\Anaconda3\\lib\\site-packages\\boto3\\s3\\inject.py\u001b[0m in \u001b[0;36mupload_file\u001b[1;34m(self, Filename, Bucket, Key, ExtraArgs, Callback, Config)\u001b[0m\n\u001b[0;32m    130\u001b[0m         return transfer.upload_file(\n\u001b[0;32m    131\u001b[0m             \u001b[0mfilename\u001b[0m\u001b[1;33m=\u001b[0m\u001b[0mFilename\u001b[0m\u001b[1;33m,\u001b[0m \u001b[0mbucket\u001b[0m\u001b[1;33m=\u001b[0m\u001b[0mBucket\u001b[0m\u001b[1;33m,\u001b[0m \u001b[0mkey\u001b[0m\u001b[1;33m=\u001b[0m\u001b[0mKey\u001b[0m\u001b[1;33m,\u001b[0m\u001b[1;33m\u001b[0m\u001b[1;33m\u001b[0m\u001b[0m\n\u001b[1;32m--> 132\u001b[1;33m             extra_args=ExtraArgs, callback=Callback)\n\u001b[0m\u001b[0;32m    133\u001b[0m \u001b[1;33m\u001b[0m\u001b[0m\n\u001b[0;32m    134\u001b[0m \u001b[1;33m\u001b[0m\u001b[0m\n",
      "\u001b[1;32mC:\\Users\\Bharadwaj Satya\\Anaconda3\\lib\\site-packages\\boto3\\s3\\transfer.py\u001b[0m in \u001b[0;36mupload_file\u001b[1;34m(self, filename, bucket, key, callback, extra_args)\u001b[0m\n\u001b[0;32m    285\u001b[0m             filename, bucket, key, extra_args, subscribers)\n\u001b[0;32m    286\u001b[0m         \u001b[1;32mtry\u001b[0m\u001b[1;33m:\u001b[0m\u001b[1;33m\u001b[0m\u001b[1;33m\u001b[0m\u001b[0m\n\u001b[1;32m--> 287\u001b[1;33m             \u001b[0mfuture\u001b[0m\u001b[1;33m.\u001b[0m\u001b[0mresult\u001b[0m\u001b[1;33m(\u001b[0m\u001b[1;33m)\u001b[0m\u001b[1;33m\u001b[0m\u001b[1;33m\u001b[0m\u001b[0m\n\u001b[0m\u001b[0;32m    288\u001b[0m         \u001b[1;31m# If a client error was raised, add the backwards compatibility layer\u001b[0m\u001b[1;33m\u001b[0m\u001b[1;33m\u001b[0m\u001b[1;33m\u001b[0m\u001b[0m\n\u001b[0;32m    289\u001b[0m         \u001b[1;31m# that raises a S3UploadFailedError. These specific errors were only\u001b[0m\u001b[1;33m\u001b[0m\u001b[1;33m\u001b[0m\u001b[1;33m\u001b[0m\u001b[0m\n",
      "\u001b[1;32mC:\\Users\\Bharadwaj Satya\\Anaconda3\\lib\\site-packages\\s3transfer\\futures.py\u001b[0m in \u001b[0;36mresult\u001b[1;34m(self)\u001b[0m\n\u001b[0;32m    104\u001b[0m             \u001b[1;31m# however if a KeyboardInterrupt is raised we want want to exit\u001b[0m\u001b[1;33m\u001b[0m\u001b[1;33m\u001b[0m\u001b[1;33m\u001b[0m\u001b[0m\n\u001b[0;32m    105\u001b[0m             \u001b[1;31m# out of this and propogate the exception.\u001b[0m\u001b[1;33m\u001b[0m\u001b[1;33m\u001b[0m\u001b[1;33m\u001b[0m\u001b[0m\n\u001b[1;32m--> 106\u001b[1;33m             \u001b[1;32mreturn\u001b[0m \u001b[0mself\u001b[0m\u001b[1;33m.\u001b[0m\u001b[0m_coordinator\u001b[0m\u001b[1;33m.\u001b[0m\u001b[0mresult\u001b[0m\u001b[1;33m(\u001b[0m\u001b[1;33m)\u001b[0m\u001b[1;33m\u001b[0m\u001b[1;33m\u001b[0m\u001b[0m\n\u001b[0m\u001b[0;32m    107\u001b[0m         \u001b[1;32mexcept\u001b[0m \u001b[0mKeyboardInterrupt\u001b[0m \u001b[1;32mas\u001b[0m \u001b[0me\u001b[0m\u001b[1;33m:\u001b[0m\u001b[1;33m\u001b[0m\u001b[1;33m\u001b[0m\u001b[0m\n\u001b[0;32m    108\u001b[0m             \u001b[0mself\u001b[0m\u001b[1;33m.\u001b[0m\u001b[0mcancel\u001b[0m\u001b[1;33m(\u001b[0m\u001b[1;33m)\u001b[0m\u001b[1;33m\u001b[0m\u001b[1;33m\u001b[0m\u001b[0m\n",
      "\u001b[1;32mC:\\Users\\Bharadwaj Satya\\Anaconda3\\lib\\site-packages\\s3transfer\\futures.py\u001b[0m in \u001b[0;36mresult\u001b[1;34m(self)\u001b[0m\n\u001b[0;32m    263\u001b[0m         \u001b[1;31m# final result.\u001b[0m\u001b[1;33m\u001b[0m\u001b[1;33m\u001b[0m\u001b[1;33m\u001b[0m\u001b[0m\n\u001b[0;32m    264\u001b[0m         \u001b[1;32mif\u001b[0m \u001b[0mself\u001b[0m\u001b[1;33m.\u001b[0m\u001b[0m_exception\u001b[0m\u001b[1;33m:\u001b[0m\u001b[1;33m\u001b[0m\u001b[1;33m\u001b[0m\u001b[0m\n\u001b[1;32m--> 265\u001b[1;33m             \u001b[1;32mraise\u001b[0m \u001b[0mself\u001b[0m\u001b[1;33m.\u001b[0m\u001b[0m_exception\u001b[0m\u001b[1;33m\u001b[0m\u001b[1;33m\u001b[0m\u001b[0m\n\u001b[0m\u001b[0;32m    266\u001b[0m         \u001b[1;32mreturn\u001b[0m \u001b[0mself\u001b[0m\u001b[1;33m.\u001b[0m\u001b[0m_result\u001b[0m\u001b[1;33m\u001b[0m\u001b[1;33m\u001b[0m\u001b[0m\n\u001b[0;32m    267\u001b[0m \u001b[1;33m\u001b[0m\u001b[0m\n",
      "\u001b[1;32mC:\\Users\\Bharadwaj Satya\\Anaconda3\\lib\\site-packages\\s3transfer\\tasks.py\u001b[0m in \u001b[0;36m__call__\u001b[1;34m(self)\u001b[0m\n\u001b[0;32m    124\u001b[0m             \u001b[1;31m# main() method.\u001b[0m\u001b[1;33m\u001b[0m\u001b[1;33m\u001b[0m\u001b[1;33m\u001b[0m\u001b[0m\n\u001b[0;32m    125\u001b[0m             \u001b[1;32mif\u001b[0m \u001b[1;32mnot\u001b[0m \u001b[0mself\u001b[0m\u001b[1;33m.\u001b[0m\u001b[0m_transfer_coordinator\u001b[0m\u001b[1;33m.\u001b[0m\u001b[0mdone\u001b[0m\u001b[1;33m(\u001b[0m\u001b[1;33m)\u001b[0m\u001b[1;33m:\u001b[0m\u001b[1;33m\u001b[0m\u001b[1;33m\u001b[0m\u001b[0m\n\u001b[1;32m--> 126\u001b[1;33m                 \u001b[1;32mreturn\u001b[0m \u001b[0mself\u001b[0m\u001b[1;33m.\u001b[0m\u001b[0m_execute_main\u001b[0m\u001b[1;33m(\u001b[0m\u001b[0mkwargs\u001b[0m\u001b[1;33m)\u001b[0m\u001b[1;33m\u001b[0m\u001b[1;33m\u001b[0m\u001b[0m\n\u001b[0m\u001b[0;32m    127\u001b[0m         \u001b[1;32mexcept\u001b[0m \u001b[0mException\u001b[0m \u001b[1;32mas\u001b[0m \u001b[0me\u001b[0m\u001b[1;33m:\u001b[0m\u001b[1;33m\u001b[0m\u001b[1;33m\u001b[0m\u001b[0m\n\u001b[0;32m    128\u001b[0m             \u001b[0mself\u001b[0m\u001b[1;33m.\u001b[0m\u001b[0m_log_and_set_exception\u001b[0m\u001b[1;33m(\u001b[0m\u001b[0me\u001b[0m\u001b[1;33m)\u001b[0m\u001b[1;33m\u001b[0m\u001b[1;33m\u001b[0m\u001b[0m\n",
      "\u001b[1;32mC:\\Users\\Bharadwaj Satya\\Anaconda3\\lib\\site-packages\\s3transfer\\tasks.py\u001b[0m in \u001b[0;36m_execute_main\u001b[1;34m(self, kwargs)\u001b[0m\n\u001b[0;32m    148\u001b[0m         )\n\u001b[0;32m    149\u001b[0m \u001b[1;33m\u001b[0m\u001b[0m\n\u001b[1;32m--> 150\u001b[1;33m         \u001b[0mreturn_value\u001b[0m \u001b[1;33m=\u001b[0m \u001b[0mself\u001b[0m\u001b[1;33m.\u001b[0m\u001b[0m_main\u001b[0m\u001b[1;33m(\u001b[0m\u001b[1;33m**\u001b[0m\u001b[0mkwargs\u001b[0m\u001b[1;33m)\u001b[0m\u001b[1;33m\u001b[0m\u001b[1;33m\u001b[0m\u001b[0m\n\u001b[0m\u001b[0;32m    151\u001b[0m         \u001b[1;31m# If the task is the final task, then set the TransferFuture's\u001b[0m\u001b[1;33m\u001b[0m\u001b[1;33m\u001b[0m\u001b[1;33m\u001b[0m\u001b[0m\n\u001b[0;32m    152\u001b[0m         \u001b[1;31m# value to the return value from main().\u001b[0m\u001b[1;33m\u001b[0m\u001b[1;33m\u001b[0m\u001b[1;33m\u001b[0m\u001b[0m\n",
      "\u001b[1;32mC:\\Users\\Bharadwaj Satya\\Anaconda3\\lib\\site-packages\\s3transfer\\upload.py\u001b[0m in \u001b[0;36m_main\u001b[1;34m(self, client, fileobj, bucket, key, extra_args)\u001b[0m\n\u001b[0;32m    692\u001b[0m         \"\"\"\n\u001b[0;32m    693\u001b[0m         \u001b[1;32mwith\u001b[0m \u001b[0mfileobj\u001b[0m \u001b[1;32mas\u001b[0m \u001b[0mbody\u001b[0m\u001b[1;33m:\u001b[0m\u001b[1;33m\u001b[0m\u001b[1;33m\u001b[0m\u001b[0m\n\u001b[1;32m--> 694\u001b[1;33m             \u001b[0mclient\u001b[0m\u001b[1;33m.\u001b[0m\u001b[0mput_object\u001b[0m\u001b[1;33m(\u001b[0m\u001b[0mBucket\u001b[0m\u001b[1;33m=\u001b[0m\u001b[0mbucket\u001b[0m\u001b[1;33m,\u001b[0m \u001b[0mKey\u001b[0m\u001b[1;33m=\u001b[0m\u001b[0mkey\u001b[0m\u001b[1;33m,\u001b[0m \u001b[0mBody\u001b[0m\u001b[1;33m=\u001b[0m\u001b[0mbody\u001b[0m\u001b[1;33m,\u001b[0m \u001b[1;33m**\u001b[0m\u001b[0mextra_args\u001b[0m\u001b[1;33m)\u001b[0m\u001b[1;33m\u001b[0m\u001b[1;33m\u001b[0m\u001b[0m\n\u001b[0m\u001b[0;32m    695\u001b[0m \u001b[1;33m\u001b[0m\u001b[0m\n\u001b[0;32m    696\u001b[0m \u001b[1;33m\u001b[0m\u001b[0m\n",
      "\u001b[1;32mC:\\Users\\Bharadwaj Satya\\AppData\\Roaming\\Python\\Python37\\site-packages\\botocore\\client.py\u001b[0m in \u001b[0;36m_api_call\u001b[1;34m(self, *args, **kwargs)\u001b[0m\n\u001b[0;32m    389\u001b[0m                     \"%s() only accepts keyword arguments.\" % py_operation_name)\n\u001b[0;32m    390\u001b[0m             \u001b[1;31m# The \"self\" in this scope is referring to the BaseClient.\u001b[0m\u001b[1;33m\u001b[0m\u001b[1;33m\u001b[0m\u001b[1;33m\u001b[0m\u001b[0m\n\u001b[1;32m--> 391\u001b[1;33m             \u001b[1;32mreturn\u001b[0m \u001b[0mself\u001b[0m\u001b[1;33m.\u001b[0m\u001b[0m_make_api_call\u001b[0m\u001b[1;33m(\u001b[0m\u001b[0moperation_name\u001b[0m\u001b[1;33m,\u001b[0m \u001b[0mkwargs\u001b[0m\u001b[1;33m)\u001b[0m\u001b[1;33m\u001b[0m\u001b[1;33m\u001b[0m\u001b[0m\n\u001b[0m\u001b[0;32m    392\u001b[0m \u001b[1;33m\u001b[0m\u001b[0m\n\u001b[0;32m    393\u001b[0m         \u001b[0m_api_call\u001b[0m\u001b[1;33m.\u001b[0m\u001b[0m__name__\u001b[0m \u001b[1;33m=\u001b[0m \u001b[0mstr\u001b[0m\u001b[1;33m(\u001b[0m\u001b[0mpy_operation_name\u001b[0m\u001b[1;33m)\u001b[0m\u001b[1;33m\u001b[0m\u001b[1;33m\u001b[0m\u001b[0m\n",
      "\u001b[1;32mC:\\Users\\Bharadwaj Satya\\AppData\\Roaming\\Python\\Python37\\site-packages\\botocore\\client.py\u001b[0m in \u001b[0;36m_make_api_call\u001b[1;34m(self, operation_name, api_params)\u001b[0m\n\u001b[0;32m    704\u001b[0m         \u001b[1;32melse\u001b[0m\u001b[1;33m:\u001b[0m\u001b[1;33m\u001b[0m\u001b[1;33m\u001b[0m\u001b[0m\n\u001b[0;32m    705\u001b[0m             http, parsed_response = self._make_request(\n\u001b[1;32m--> 706\u001b[1;33m                 operation_model, request_dict, request_context)\n\u001b[0m\u001b[0;32m    707\u001b[0m \u001b[1;33m\u001b[0m\u001b[0m\n\u001b[0;32m    708\u001b[0m         self.meta.events.emit(\n",
      "\u001b[1;32mC:\\Users\\Bharadwaj Satya\\AppData\\Roaming\\Python\\Python37\\site-packages\\botocore\\client.py\u001b[0m in \u001b[0;36m_make_request\u001b[1;34m(self, operation_model, request_dict, request_context)\u001b[0m\n\u001b[0;32m    723\u001b[0m     \u001b[1;32mdef\u001b[0m \u001b[0m_make_request\u001b[0m\u001b[1;33m(\u001b[0m\u001b[0mself\u001b[0m\u001b[1;33m,\u001b[0m \u001b[0moperation_model\u001b[0m\u001b[1;33m,\u001b[0m \u001b[0mrequest_dict\u001b[0m\u001b[1;33m,\u001b[0m \u001b[0mrequest_context\u001b[0m\u001b[1;33m)\u001b[0m\u001b[1;33m:\u001b[0m\u001b[1;33m\u001b[0m\u001b[1;33m\u001b[0m\u001b[0m\n\u001b[0;32m    724\u001b[0m         \u001b[1;32mtry\u001b[0m\u001b[1;33m:\u001b[0m\u001b[1;33m\u001b[0m\u001b[1;33m\u001b[0m\u001b[0m\n\u001b[1;32m--> 725\u001b[1;33m             \u001b[1;32mreturn\u001b[0m \u001b[0mself\u001b[0m\u001b[1;33m.\u001b[0m\u001b[0m_endpoint\u001b[0m\u001b[1;33m.\u001b[0m\u001b[0mmake_request\u001b[0m\u001b[1;33m(\u001b[0m\u001b[0moperation_model\u001b[0m\u001b[1;33m,\u001b[0m \u001b[0mrequest_dict\u001b[0m\u001b[1;33m)\u001b[0m\u001b[1;33m\u001b[0m\u001b[1;33m\u001b[0m\u001b[0m\n\u001b[0m\u001b[0;32m    726\u001b[0m         \u001b[1;32mexcept\u001b[0m \u001b[0mException\u001b[0m \u001b[1;32mas\u001b[0m \u001b[0me\u001b[0m\u001b[1;33m:\u001b[0m\u001b[1;33m\u001b[0m\u001b[1;33m\u001b[0m\u001b[0m\n\u001b[0;32m    727\u001b[0m             self.meta.events.emit(\n",
      "\u001b[1;32mC:\\Users\\Bharadwaj Satya\\AppData\\Roaming\\Python\\Python37\\site-packages\\botocore\\endpoint.py\u001b[0m in \u001b[0;36mmake_request\u001b[1;34m(self, operation_model, request_dict)\u001b[0m\n\u001b[0;32m    102\u001b[0m         logger.debug(\"Making request for %s with params: %s\",\n\u001b[0;32m    103\u001b[0m                      operation_model, request_dict)\n\u001b[1;32m--> 104\u001b[1;33m         \u001b[1;32mreturn\u001b[0m \u001b[0mself\u001b[0m\u001b[1;33m.\u001b[0m\u001b[0m_send_request\u001b[0m\u001b[1;33m(\u001b[0m\u001b[0mrequest_dict\u001b[0m\u001b[1;33m,\u001b[0m \u001b[0moperation_model\u001b[0m\u001b[1;33m)\u001b[0m\u001b[1;33m\u001b[0m\u001b[1;33m\u001b[0m\u001b[0m\n\u001b[0m\u001b[0;32m    105\u001b[0m \u001b[1;33m\u001b[0m\u001b[0m\n\u001b[0;32m    106\u001b[0m     \u001b[1;32mdef\u001b[0m \u001b[0mcreate_request\u001b[0m\u001b[1;33m(\u001b[0m\u001b[0mself\u001b[0m\u001b[1;33m,\u001b[0m \u001b[0mparams\u001b[0m\u001b[1;33m,\u001b[0m \u001b[0moperation_model\u001b[0m\u001b[1;33m=\u001b[0m\u001b[1;32mNone\u001b[0m\u001b[1;33m)\u001b[0m\u001b[1;33m:\u001b[0m\u001b[1;33m\u001b[0m\u001b[1;33m\u001b[0m\u001b[0m\n",
      "\u001b[1;32mC:\\Users\\Bharadwaj Satya\\AppData\\Roaming\\Python\\Python37\\site-packages\\botocore\\endpoint.py\u001b[0m in \u001b[0;36m_send_request\u001b[1;34m(self, request_dict, operation_model)\u001b[0m\n\u001b[0;32m    132\u001b[0m     \u001b[1;32mdef\u001b[0m \u001b[0m_send_request\u001b[0m\u001b[1;33m(\u001b[0m\u001b[0mself\u001b[0m\u001b[1;33m,\u001b[0m \u001b[0mrequest_dict\u001b[0m\u001b[1;33m,\u001b[0m \u001b[0moperation_model\u001b[0m\u001b[1;33m)\u001b[0m\u001b[1;33m:\u001b[0m\u001b[1;33m\u001b[0m\u001b[1;33m\u001b[0m\u001b[0m\n\u001b[0;32m    133\u001b[0m         \u001b[0mattempts\u001b[0m \u001b[1;33m=\u001b[0m \u001b[1;36m1\u001b[0m\u001b[1;33m\u001b[0m\u001b[1;33m\u001b[0m\u001b[0m\n\u001b[1;32m--> 134\u001b[1;33m         \u001b[0mrequest\u001b[0m \u001b[1;33m=\u001b[0m \u001b[0mself\u001b[0m\u001b[1;33m.\u001b[0m\u001b[0mcreate_request\u001b[0m\u001b[1;33m(\u001b[0m\u001b[0mrequest_dict\u001b[0m\u001b[1;33m,\u001b[0m \u001b[0moperation_model\u001b[0m\u001b[1;33m)\u001b[0m\u001b[1;33m\u001b[0m\u001b[1;33m\u001b[0m\u001b[0m\n\u001b[0m\u001b[0;32m    135\u001b[0m         \u001b[0mcontext\u001b[0m \u001b[1;33m=\u001b[0m \u001b[0mrequest_dict\u001b[0m\u001b[1;33m[\u001b[0m\u001b[1;34m'context'\u001b[0m\u001b[1;33m]\u001b[0m\u001b[1;33m\u001b[0m\u001b[1;33m\u001b[0m\u001b[0m\n\u001b[0;32m    136\u001b[0m         success_response, exception = self._get_response(\n",
      "\u001b[1;32mC:\\Users\\Bharadwaj Satya\\AppData\\Roaming\\Python\\Python37\\site-packages\\botocore\\endpoint.py\u001b[0m in \u001b[0;36mcreate_request\u001b[1;34m(self, params, operation_model)\u001b[0m\n\u001b[0;32m    116\u001b[0m                 op_name=operation_model.name)\n\u001b[0;32m    117\u001b[0m             self._event_emitter.emit(event_name, request=request,\n\u001b[1;32m--> 118\u001b[1;33m                                      operation_name=operation_model.name)\n\u001b[0m\u001b[0;32m    119\u001b[0m         \u001b[0mprepared_request\u001b[0m \u001b[1;33m=\u001b[0m \u001b[0mself\u001b[0m\u001b[1;33m.\u001b[0m\u001b[0mprepare_request\u001b[0m\u001b[1;33m(\u001b[0m\u001b[0mrequest\u001b[0m\u001b[1;33m)\u001b[0m\u001b[1;33m\u001b[0m\u001b[1;33m\u001b[0m\u001b[0m\n\u001b[0;32m    120\u001b[0m         \u001b[1;32mreturn\u001b[0m \u001b[0mprepared_request\u001b[0m\u001b[1;33m\u001b[0m\u001b[1;33m\u001b[0m\u001b[0m\n",
      "\u001b[1;32mC:\\Users\\Bharadwaj Satya\\AppData\\Roaming\\Python\\Python37\\site-packages\\botocore\\hooks.py\u001b[0m in \u001b[0;36memit\u001b[1;34m(self, event_name, **kwargs)\u001b[0m\n\u001b[0;32m    355\u001b[0m     \u001b[1;32mdef\u001b[0m \u001b[0memit\u001b[0m\u001b[1;33m(\u001b[0m\u001b[0mself\u001b[0m\u001b[1;33m,\u001b[0m \u001b[0mevent_name\u001b[0m\u001b[1;33m,\u001b[0m \u001b[1;33m**\u001b[0m\u001b[0mkwargs\u001b[0m\u001b[1;33m)\u001b[0m\u001b[1;33m:\u001b[0m\u001b[1;33m\u001b[0m\u001b[1;33m\u001b[0m\u001b[0m\n\u001b[0;32m    356\u001b[0m         \u001b[0maliased_event_name\u001b[0m \u001b[1;33m=\u001b[0m \u001b[0mself\u001b[0m\u001b[1;33m.\u001b[0m\u001b[0m_alias_event_name\u001b[0m\u001b[1;33m(\u001b[0m\u001b[0mevent_name\u001b[0m\u001b[1;33m)\u001b[0m\u001b[1;33m\u001b[0m\u001b[1;33m\u001b[0m\u001b[0m\n\u001b[1;32m--> 357\u001b[1;33m         \u001b[1;32mreturn\u001b[0m \u001b[0mself\u001b[0m\u001b[1;33m.\u001b[0m\u001b[0m_emitter\u001b[0m\u001b[1;33m.\u001b[0m\u001b[0memit\u001b[0m\u001b[1;33m(\u001b[0m\u001b[0maliased_event_name\u001b[0m\u001b[1;33m,\u001b[0m \u001b[1;33m**\u001b[0m\u001b[0mkwargs\u001b[0m\u001b[1;33m)\u001b[0m\u001b[1;33m\u001b[0m\u001b[1;33m\u001b[0m\u001b[0m\n\u001b[0m\u001b[0;32m    358\u001b[0m \u001b[1;33m\u001b[0m\u001b[0m\n\u001b[0;32m    359\u001b[0m     \u001b[1;32mdef\u001b[0m \u001b[0memit_until_response\u001b[0m\u001b[1;33m(\u001b[0m\u001b[0mself\u001b[0m\u001b[1;33m,\u001b[0m \u001b[0mevent_name\u001b[0m\u001b[1;33m,\u001b[0m \u001b[1;33m**\u001b[0m\u001b[0mkwargs\u001b[0m\u001b[1;33m)\u001b[0m\u001b[1;33m:\u001b[0m\u001b[1;33m\u001b[0m\u001b[1;33m\u001b[0m\u001b[0m\n",
      "\u001b[1;32mC:\\Users\\Bharadwaj Satya\\AppData\\Roaming\\Python\\Python37\\site-packages\\botocore\\hooks.py\u001b[0m in \u001b[0;36memit\u001b[1;34m(self, event_name, **kwargs)\u001b[0m\n\u001b[0;32m    226\u001b[0m                  \u001b[0mhandlers\u001b[0m\u001b[1;33m.\u001b[0m\u001b[1;33m\u001b[0m\u001b[1;33m\u001b[0m\u001b[0m\n\u001b[0;32m    227\u001b[0m         \"\"\"\n\u001b[1;32m--> 228\u001b[1;33m         \u001b[1;32mreturn\u001b[0m \u001b[0mself\u001b[0m\u001b[1;33m.\u001b[0m\u001b[0m_emit\u001b[0m\u001b[1;33m(\u001b[0m\u001b[0mevent_name\u001b[0m\u001b[1;33m,\u001b[0m \u001b[0mkwargs\u001b[0m\u001b[1;33m)\u001b[0m\u001b[1;33m\u001b[0m\u001b[1;33m\u001b[0m\u001b[0m\n\u001b[0m\u001b[0;32m    229\u001b[0m \u001b[1;33m\u001b[0m\u001b[0m\n\u001b[0;32m    230\u001b[0m     \u001b[1;32mdef\u001b[0m \u001b[0memit_until_response\u001b[0m\u001b[1;33m(\u001b[0m\u001b[0mself\u001b[0m\u001b[1;33m,\u001b[0m \u001b[0mevent_name\u001b[0m\u001b[1;33m,\u001b[0m \u001b[1;33m**\u001b[0m\u001b[0mkwargs\u001b[0m\u001b[1;33m)\u001b[0m\u001b[1;33m:\u001b[0m\u001b[1;33m\u001b[0m\u001b[1;33m\u001b[0m\u001b[0m\n",
      "\u001b[1;32mC:\\Users\\Bharadwaj Satya\\AppData\\Roaming\\Python\\Python37\\site-packages\\botocore\\hooks.py\u001b[0m in \u001b[0;36m_emit\u001b[1;34m(self, event_name, kwargs, stop_on_response)\u001b[0m\n\u001b[0;32m    209\u001b[0m         \u001b[1;32mfor\u001b[0m \u001b[0mhandler\u001b[0m \u001b[1;32min\u001b[0m \u001b[0mhandlers_to_call\u001b[0m\u001b[1;33m:\u001b[0m\u001b[1;33m\u001b[0m\u001b[1;33m\u001b[0m\u001b[0m\n\u001b[0;32m    210\u001b[0m             \u001b[0mlogger\u001b[0m\u001b[1;33m.\u001b[0m\u001b[0mdebug\u001b[0m\u001b[1;33m(\u001b[0m\u001b[1;34m'Event %s: calling handler %s'\u001b[0m\u001b[1;33m,\u001b[0m \u001b[0mevent_name\u001b[0m\u001b[1;33m,\u001b[0m \u001b[0mhandler\u001b[0m\u001b[1;33m)\u001b[0m\u001b[1;33m\u001b[0m\u001b[1;33m\u001b[0m\u001b[0m\n\u001b[1;32m--> 211\u001b[1;33m             \u001b[0mresponse\u001b[0m \u001b[1;33m=\u001b[0m \u001b[0mhandler\u001b[0m\u001b[1;33m(\u001b[0m\u001b[1;33m**\u001b[0m\u001b[0mkwargs\u001b[0m\u001b[1;33m)\u001b[0m\u001b[1;33m\u001b[0m\u001b[1;33m\u001b[0m\u001b[0m\n\u001b[0m\u001b[0;32m    212\u001b[0m             \u001b[0mresponses\u001b[0m\u001b[1;33m.\u001b[0m\u001b[0mappend\u001b[0m\u001b[1;33m(\u001b[0m\u001b[1;33m(\u001b[0m\u001b[0mhandler\u001b[0m\u001b[1;33m,\u001b[0m \u001b[0mresponse\u001b[0m\u001b[1;33m)\u001b[0m\u001b[1;33m)\u001b[0m\u001b[1;33m\u001b[0m\u001b[1;33m\u001b[0m\u001b[0m\n\u001b[0;32m    213\u001b[0m             \u001b[1;32mif\u001b[0m \u001b[0mstop_on_response\u001b[0m \u001b[1;32mand\u001b[0m \u001b[0mresponse\u001b[0m \u001b[1;32mis\u001b[0m \u001b[1;32mnot\u001b[0m \u001b[1;32mNone\u001b[0m\u001b[1;33m:\u001b[0m\u001b[1;33m\u001b[0m\u001b[1;33m\u001b[0m\u001b[0m\n",
      "\u001b[1;32mC:\\Users\\Bharadwaj Satya\\AppData\\Roaming\\Python\\Python37\\site-packages\\botocore\\signers.py\u001b[0m in \u001b[0;36mhandler\u001b[1;34m(self, operation_name, request, **kwargs)\u001b[0m\n\u001b[0;32m     91\u001b[0m         \u001b[1;31m# this method is invoked to sign the request.\u001b[0m\u001b[1;33m\u001b[0m\u001b[1;33m\u001b[0m\u001b[1;33m\u001b[0m\u001b[0m\n\u001b[0;32m     92\u001b[0m         \u001b[1;31m# Don't call this method directly.\u001b[0m\u001b[1;33m\u001b[0m\u001b[1;33m\u001b[0m\u001b[1;33m\u001b[0m\u001b[0m\n\u001b[1;32m---> 93\u001b[1;33m         \u001b[1;32mreturn\u001b[0m \u001b[0mself\u001b[0m\u001b[1;33m.\u001b[0m\u001b[0msign\u001b[0m\u001b[1;33m(\u001b[0m\u001b[0moperation_name\u001b[0m\u001b[1;33m,\u001b[0m \u001b[0mrequest\u001b[0m\u001b[1;33m)\u001b[0m\u001b[1;33m\u001b[0m\u001b[1;33m\u001b[0m\u001b[0m\n\u001b[0m\u001b[0;32m     94\u001b[0m \u001b[1;33m\u001b[0m\u001b[0m\n\u001b[0;32m     95\u001b[0m     def sign(self, operation_name, request, region_name=None,\n",
      "\u001b[1;32mC:\\Users\\Bharadwaj Satya\\AppData\\Roaming\\Python\\Python37\\site-packages\\botocore\\signers.py\u001b[0m in \u001b[0;36msign\u001b[1;34m(self, operation_name, request, region_name, signing_type, expires_in, signing_name)\u001b[0m\n\u001b[0;32m    163\u001b[0m                     \u001b[1;32mraise\u001b[0m \u001b[0me\u001b[0m\u001b[1;33m\u001b[0m\u001b[1;33m\u001b[0m\u001b[0m\n\u001b[0;32m    164\u001b[0m \u001b[1;33m\u001b[0m\u001b[0m\n\u001b[1;32m--> 165\u001b[1;33m             \u001b[0mauth\u001b[0m\u001b[1;33m.\u001b[0m\u001b[0madd_auth\u001b[0m\u001b[1;33m(\u001b[0m\u001b[0mrequest\u001b[0m\u001b[1;33m)\u001b[0m\u001b[1;33m\u001b[0m\u001b[1;33m\u001b[0m\u001b[0m\n\u001b[0m\u001b[0;32m    166\u001b[0m \u001b[1;33m\u001b[0m\u001b[0m\n\u001b[0;32m    167\u001b[0m     \u001b[1;32mdef\u001b[0m \u001b[0m_choose_signer\u001b[0m\u001b[1;33m(\u001b[0m\u001b[0mself\u001b[0m\u001b[1;33m,\u001b[0m \u001b[0moperation_name\u001b[0m\u001b[1;33m,\u001b[0m \u001b[0msigning_type\u001b[0m\u001b[1;33m,\u001b[0m \u001b[0mcontext\u001b[0m\u001b[1;33m)\u001b[0m\u001b[1;33m:\u001b[0m\u001b[1;33m\u001b[0m\u001b[1;33m\u001b[0m\u001b[0m\n",
      "\u001b[1;32mC:\\Users\\Bharadwaj Satya\\AppData\\Roaming\\Python\\Python37\\site-packages\\botocore\\auth.py\u001b[0m in \u001b[0;36madd_auth\u001b[1;34m(self, request)\u001b[0m\n\u001b[0;32m    376\u001b[0m     \u001b[1;32mdef\u001b[0m \u001b[0madd_auth\u001b[0m\u001b[1;33m(\u001b[0m\u001b[0mself\u001b[0m\u001b[1;33m,\u001b[0m \u001b[0mrequest\u001b[0m\u001b[1;33m)\u001b[0m\u001b[1;33m:\u001b[0m\u001b[1;33m\u001b[0m\u001b[1;33m\u001b[0m\u001b[0m\n\u001b[0;32m    377\u001b[0m         \u001b[1;32mif\u001b[0m \u001b[0mself\u001b[0m\u001b[1;33m.\u001b[0m\u001b[0mcredentials\u001b[0m \u001b[1;32mis\u001b[0m \u001b[1;32mNone\u001b[0m\u001b[1;33m:\u001b[0m\u001b[1;33m\u001b[0m\u001b[1;33m\u001b[0m\u001b[0m\n\u001b[1;32m--> 378\u001b[1;33m             \u001b[1;32mraise\u001b[0m \u001b[0mNoCredentialsError\u001b[0m\u001b[1;33m(\u001b[0m\u001b[1;33m)\u001b[0m\u001b[1;33m\u001b[0m\u001b[1;33m\u001b[0m\u001b[0m\n\u001b[0m\u001b[0;32m    379\u001b[0m         \u001b[0mdatetime_now\u001b[0m \u001b[1;33m=\u001b[0m \u001b[0mdatetime\u001b[0m\u001b[1;33m.\u001b[0m\u001b[0mdatetime\u001b[0m\u001b[1;33m.\u001b[0m\u001b[0mutcnow\u001b[0m\u001b[1;33m(\u001b[0m\u001b[1;33m)\u001b[0m\u001b[1;33m\u001b[0m\u001b[1;33m\u001b[0m\u001b[0m\n\u001b[0;32m    380\u001b[0m         \u001b[0mrequest\u001b[0m\u001b[1;33m.\u001b[0m\u001b[0mcontext\u001b[0m\u001b[1;33m[\u001b[0m\u001b[1;34m'timestamp'\u001b[0m\u001b[1;33m]\u001b[0m \u001b[1;33m=\u001b[0m \u001b[0mdatetime_now\u001b[0m\u001b[1;33m.\u001b[0m\u001b[0mstrftime\u001b[0m\u001b[1;33m(\u001b[0m\u001b[0mSIGV4_TIMESTAMP\u001b[0m\u001b[1;33m)\u001b[0m\u001b[1;33m\u001b[0m\u001b[1;33m\u001b[0m\u001b[0m\n",
      "\u001b[1;31mNoCredentialsError\u001b[0m: Unable to locate credentials"
     ]
    }
   ],
   "source": [
    "main()"
   ]
  },
  {
   "cell_type": "code",
   "execution_count": null,
   "metadata": {
    "ExecuteTime": {
     "end_time": "2021-12-20T03:50:54.333698Z",
     "start_time": "2021-12-20T03:50:45.618Z"
    }
   },
   "outputs": [],
   "source": [
    "#!pip3 install awscli --upgrade --user\n"
   ]
  },
  {
   "cell_type": "code",
   "execution_count": null,
   "metadata": {},
   "outputs": [],
   "source": []
  },
  {
   "cell_type": "code",
   "execution_count": null,
   "metadata": {},
   "outputs": [],
   "source": []
  },
  {
   "cell_type": "code",
   "execution_count": null,
   "metadata": {},
   "outputs": [],
   "source": []
  },
  {
   "cell_type": "code",
   "execution_count": null,
   "metadata": {},
   "outputs": [],
   "source": []
  },
  {
   "cell_type": "code",
   "execution_count": null,
   "metadata": {},
   "outputs": [],
   "source": []
  },
  {
   "cell_type": "code",
   "execution_count": null,
   "metadata": {},
   "outputs": [],
   "source": []
  },
  {
   "cell_type": "code",
   "execution_count": null,
   "metadata": {},
   "outputs": [],
   "source": []
  },
  {
   "cell_type": "code",
   "execution_count": null,
   "metadata": {},
   "outputs": [],
   "source": []
  },
  {
   "cell_type": "code",
   "execution_count": null,
   "metadata": {},
   "outputs": [],
   "source": []
  },
  {
   "cell_type": "code",
   "execution_count": null,
   "metadata": {},
   "outputs": [],
   "source": []
  },
  {
   "cell_type": "code",
   "execution_count": null,
   "metadata": {},
   "outputs": [],
   "source": []
  },
  {
   "cell_type": "code",
   "execution_count": null,
   "metadata": {},
   "outputs": [],
   "source": []
  },
  {
   "cell_type": "code",
   "execution_count": null,
   "metadata": {},
   "outputs": [],
   "source": []
  },
  {
   "cell_type": "code",
   "execution_count": null,
   "metadata": {},
   "outputs": [],
   "source": []
  },
  {
   "cell_type": "code",
   "execution_count": null,
   "metadata": {},
   "outputs": [],
   "source": []
  },
  {
   "cell_type": "code",
   "execution_count": null,
   "metadata": {},
   "outputs": [],
   "source": []
  },
  {
   "cell_type": "code",
   "execution_count": null,
   "metadata": {},
   "outputs": [],
   "source": []
  },
  {
   "cell_type": "code",
   "execution_count": null,
   "metadata": {},
   "outputs": [],
   "source": []
  },
  {
   "cell_type": "code",
   "execution_count": null,
   "metadata": {},
   "outputs": [],
   "source": []
  },
  {
   "cell_type": "code",
   "execution_count": null,
   "metadata": {},
   "outputs": [],
   "source": []
  },
  {
   "cell_type": "code",
   "execution_count": null,
   "metadata": {},
   "outputs": [],
   "source": []
  },
  {
   "cell_type": "code",
   "execution_count": null,
   "metadata": {},
   "outputs": [],
   "source": []
  },
  {
   "cell_type": "code",
   "execution_count": null,
   "metadata": {},
   "outputs": [],
   "source": []
  },
  {
   "cell_type": "code",
   "execution_count": null,
   "metadata": {},
   "outputs": [],
   "source": []
  }
 ],
 "metadata": {
  "colab": {
   "collapsed_sections": [
    "Wmse8IkAkrY6",
    "Lf8O-o20ksz5",
    "r-aaVj3XlFUT",
    "UGqq_bmmlE5H",
    "vPvBE7cZmnTg",
    "HBSlk4IvnmKf",
    "H-l1Mt1vn0Ve"
   ],
   "name": "Cow_Sprinkler_Optimization.ipynb",
   "provenance": []
  },
  "kernelspec": {
   "display_name": "Python 3",
   "language": "python",
   "name": "python3"
  },
  "language_info": {
   "codemirror_mode": {
    "name": "ipython",
    "version": 3
   },
   "file_extension": ".py",
   "mimetype": "text/x-python",
   "name": "python",
   "nbconvert_exporter": "python",
   "pygments_lexer": "ipython3",
   "version": "3.7.3"
  }
 },
 "nbformat": 4,
 "nbformat_minor": 1
}
